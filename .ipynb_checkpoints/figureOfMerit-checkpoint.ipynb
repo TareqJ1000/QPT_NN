version https://git-lfs.github.com/spec/v1
oid sha256:32bcd6c176e8d300e908292bc51c1867b06675a43d244c48f67c122344c2634b
size 460087
