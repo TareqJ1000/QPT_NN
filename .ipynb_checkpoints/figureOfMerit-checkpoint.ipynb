version https://git-lfs.github.com/spec/v1
oid sha256:3839bdc1556fd96a9510f9e54b2b1251eee4d0f81f3f04ba5a8430319d6aea78
size 150703
