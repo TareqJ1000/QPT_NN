version https://git-lfs.github.com/spec/v1
oid sha256:509f69430d6e0f50209e7b37565f8d863668bd51cacc95bc61eab5923c8cb08b
size 1348307
