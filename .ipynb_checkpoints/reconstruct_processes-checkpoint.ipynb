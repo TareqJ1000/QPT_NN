version https://git-lfs.github.com/spec/v1
oid sha256:9771b1212ec9d2c823cddcf7334ba7c89c389a011f157bdcba8b533bcfa82a7b
size 180299
