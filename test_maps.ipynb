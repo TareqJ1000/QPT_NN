version https://git-lfs.github.com/spec/v1
oid sha256:62d63d4bd1011d31dfa719dcba8bddfddfc34b2158c6f9bc6fc01c44c38d40d6
size 302401
