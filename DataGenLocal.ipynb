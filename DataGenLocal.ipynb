version https://git-lfs.github.com/spec/v1
oid sha256:8bd9604834ab6ee713401739a3d905af030936e209a3d75a4c22f41e2d1470e9
size 113071
