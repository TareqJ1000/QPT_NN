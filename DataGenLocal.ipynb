version https://git-lfs.github.com/spec/v1
oid sha256:97983e88bc3200dfb492351c7010bdcf0974ff5eb2e2863f10a77d74d0064245
size 1082317
