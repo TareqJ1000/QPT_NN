version https://git-lfs.github.com/spec/v1
oid sha256:6ff4cca4e5f2afe2e7b69ad5327fc446a99b0372a393c13bff2025931ff71244
size 460144
