version https://git-lfs.github.com/spec/v1
oid sha256:f41f62291759780bc4524ea4a758b9e5b9e8fe917e25452fb8cbcfcb15afec94
size 487478
