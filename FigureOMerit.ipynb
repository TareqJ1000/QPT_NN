version https://git-lfs.github.com/spec/v1
oid sha256:a17eaabadafdf149737ebc73ff47122c3209f0a6b06e35a1b31b3a5627b727d9
size 502888
