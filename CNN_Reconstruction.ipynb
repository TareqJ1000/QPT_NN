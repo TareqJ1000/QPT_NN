version https://git-lfs.github.com/spec/v1
oid sha256:f834b0dcf6ceb3c4a08ae40ea295f5f5940890ddaf473d1087c62f00a6c59aa4
size 271771
